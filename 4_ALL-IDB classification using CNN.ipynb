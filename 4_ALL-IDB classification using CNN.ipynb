{
 "cells": [
  {
   "cell_type": "markdown",
   "metadata": {},
   "source": [
    "# ALL-IDB Classification using Autoencoder\n",
    "\n",
    "### Dataset used:- [ALL-IDB:Acute Lymphoblastic Leukemia Image Database for Image Processing](https://homes.di.unimi.it/scotti/all/)\n",
    "Follow the instructions provided in the linked website to download the dataset. After downloading, extract the files to the current directory (same folder as your codes). Note that ALL_IDB2 is used in this  tutorial."
   ]
  },
  {
   "cell_type": "code",
   "execution_count": 1,
   "metadata": {},
   "outputs": [],
   "source": [
    "%matplotlib inline\n",
    "import os\n",
    "import torch\n",
    "from PIL import Image\n",
    "import matplotlib.pyplot as plt\n",
    "import numpy as np\n",
    "import torchvision\n",
    "from torch.autograd import Variable\n",
    "from torch.utils.data import TensorDataset,DataLoader\n",
    "import torch.nn as nn\n",
    "import torch.nn.functional as F\n",
    "import torch.optim as optim\n",
    "import copy\n",
    "import time\n",
    "import random"
   ]
  },
  {
   "cell_type": "markdown",
   "metadata": {},
   "source": [
    "### Load Data:"
   ]
  },
  {
   "cell_type": "code",
   "execution_count": 2,
   "metadata": {},
   "outputs": [],
   "source": [
    "Datapath = 'C:/Users/rachana/Desktop/Magbebug-Summer-School-2019-master/ALL_IDB2/img/'\n",
    "listing = os.listdir(Datapath) \n",
    "random.shuffle(listing)"
   ]
  },
  {
   "cell_type": "code",
   "execution_count": 3,
   "metadata": {},
   "outputs": [],
   "source": [
    "# ALL_IDB2 dataset has 260 images in total\n",
    "TrainImages = torch.FloatTensor(200,3,32,32)\n",
    "TrainLabels = torch.LongTensor(200)\n",
    "TestImages = torch.FloatTensor(60,3,32,32)\n",
    "TestLabels = torch.LongTensor(60)\n",
    "\n",
    "# First 200 images are used for training and the remaining 60 for testing\n",
    "img_no = 0\n",
    "for file in listing:\n",
    "    im=Image.open(Datapath + file)\n",
    "    im = im.resize((32,32))\n",
    "    im = np.array(im).transpose(2,0,1)\n",
    "#     print(im.shape)\n",
    "#     break\n",
    "#     im = np.reshape(im, 32*32*3)\n",
    "    if img_no < 200:\n",
    "        TrainImages[img_no] = torch.from_numpy(im)\n",
    "        TrainLabels[img_no] = int(listing[img_no][6:7])\n",
    "    else:\n",
    "        TestImages[img_no - 200] = torch.from_numpy(im)\n",
    "        TestLabels[img_no - 200] = int(listing[img_no][6:7])\n",
    "    img_no = img_no + 1"
   ]
  },
  {
   "cell_type": "code",
   "execution_count": 4,
   "metadata": {},
   "outputs": [
    {
     "name": "stdout",
     "output_type": "stream",
     "text": [
      "torch.Size([200, 3, 32, 32])\n",
      "torch.Size([200])\n",
      "torch.Size([60, 3, 32, 32])\n",
      "torch.Size([60])\n"
     ]
    }
   ],
   "source": [
    "print(TrainImages.size())\n",
    "print(TrainLabels.size())\n",
    "print(TestImages.size())\n",
    "print(TestLabels.size())"
   ]
  },
  {
   "cell_type": "code",
   "execution_count": 5,
   "metadata": {},
   "outputs": [],
   "source": [
    "# Creating pytorch dataset from the feature matices\n",
    "trainDataset = TensorDataset(TrainImages, TrainLabels)\n",
    "testDataset = TensorDataset(TestImages, TestLabels)\n",
    "# Creating dataloader\n",
    "BatchSize = 16\n",
    "trainLoader = DataLoader(trainDataset, batch_size=BatchSize, shuffle=True,num_workers=4, pin_memory=True)\n",
    "testLoader = DataLoader(testDataset, batch_size=BatchSize, shuffle=True,num_workers=4, pin_memory=True)"
   ]
  },
  {
   "cell_type": "code",
   "execution_count": 6,
   "metadata": {},
   "outputs": [
    {
     "name": "stdout",
     "output_type": "stream",
     "text": [
      "GPU is available!\n"
     ]
    }
   ],
   "source": [
    "# Check availability of GPU\n",
    "use_gpu = torch.cuda.is_available()\n",
    "if use_gpu:\n",
    "    print('GPU is available!')"
   ]
  },
  {
   "cell_type": "markdown",
   "metadata": {},
   "source": [
    "### Define the Autoencoder class"
   ]
  },
  {
   "cell_type": "code",
   "execution_count": 7,
   "metadata": {},
   "outputs": [],
   "source": [
    "class LeNet2(nn.Module):\n",
    "    def __init__(self):\n",
    "        super(LeNet2, self).__init__()\n",
    "        self.conv1 = nn.Conv2d(3, 6, kernel_size=5)\n",
    "        self.pool1 = nn.MaxPool2d(kernel_size=2,stride=2)\n",
    "        self.conv2 = nn.Conv2d(6, 16, kernel_size=5)\n",
    "        self.pool2 = nn.MaxPool2d(kernel_size=2,stride=2)\n",
    "        self.conv2_drop = nn.Dropout2d()\n",
    "        self.fc1 = nn.Linear(400, 120)\n",
    "        self.fc2 = nn.Linear(120, 84)\n",
    "        self.fc3 = nn.Linear(84, 2)\n",
    "\n",
    "    def forward(self, x):\n",
    "        x = F.relu(self.conv1(x))\n",
    "        x = self.pool1(x)\n",
    "        x = F.relu(self.conv2_drop(self.conv2(x)))\n",
    "        x = self.pool2(x)\n",
    "        x = x.view(-1, 400)\n",
    "        x = F.relu(self.fc1(x))\n",
    "        x = F.dropout(x, training=self.training)\n",
    "        x = F.relu(self.fc2(x))\n",
    "        x = F.dropout(x, training=self.training)\n",
    "        x = self.fc3(x)\n",
    "        return F.log_softmax(x,dim=1)"
   ]
  },
  {
   "cell_type": "markdown",
   "metadata": {},
   "source": [
    "### Initialize the network"
   ]
  },
  {
   "cell_type": "code",
   "execution_count": 8,
   "metadata": {},
   "outputs": [
    {
     "name": "stdout",
     "output_type": "stream",
     "text": [
      "LeNet2(\n",
      "  (conv1): Conv2d(3, 6, kernel_size=(5, 5), stride=(1, 1))\n",
      "  (pool1): MaxPool2d(kernel_size=2, stride=2, padding=0, dilation=1, ceil_mode=False)\n",
      "  (conv2): Conv2d(6, 16, kernel_size=(5, 5), stride=(1, 1))\n",
      "  (pool2): MaxPool2d(kernel_size=2, stride=2, padding=0, dilation=1, ceil_mode=False)\n",
      "  (conv2_drop): Dropout2d(p=0.5)\n",
      "  (fc1): Linear(in_features=400, out_features=120, bias=True)\n",
      "  (fc2): Linear(in_features=120, out_features=84, bias=True)\n",
      "  (fc3): Linear(in_features=84, out_features=2, bias=True)\n",
      ")\n"
     ]
    }
   ],
   "source": [
    "net = LeNet2()\n",
    "print(net)\n",
    "\n",
    "if use_gpu:\n",
    "    net = net.cuda()"
   ]
  },
  {
   "cell_type": "code",
   "execution_count": 9,
   "metadata": {},
   "outputs": [],
   "source": [
    "init_conv1 = copy.deepcopy(net.conv1.weight.data)"
   ]
  },
  {
   "cell_type": "markdown",
   "metadata": {},
   "source": [
    "### Define optimization technique:"
   ]
  },
  {
   "cell_type": "code",
   "execution_count": 10,
   "metadata": {},
   "outputs": [],
   "source": [
    "criterion = nn.NLLLoss() # Mean Squared Error \n",
    "optimizer = optim.Adam(net.parameters(), lr=1e-3)#, momentum=0.9) # Stochastic Gradient Descent"
   ]
  },
  {
   "cell_type": "markdown",
   "metadata": {},
   "source": [
    "## Train the network"
   ]
  },
  {
   "cell_type": "code",
   "execution_count": 11,
   "metadata": {
    "scrolled": false
   },
   "outputs": [
    {
     "name": "stdout",
     "output_type": "stream",
     "text": [
      "At Iteration: 1 /50  ;  Training Loss: 0.755363 ; Training Acc: 43.500 ; Testing Acc: 43.333 ; Time consumed: 0m 2s \n",
      "At Iteration: 2 /50  ;  Training Loss: 0.750850 ; Training Acc: 51.000 ; Testing Acc: 71.667 ; Time consumed: 0m 1s \n",
      "At Iteration: 3 /50  ;  Training Loss: 0.750413 ; Training Acc: 52.500 ; Testing Acc: 43.333 ; Time consumed: 0m 1s \n",
      "At Iteration: 4 /50  ;  Training Loss: 0.748804 ; Training Acc: 51.500 ; Testing Acc: 43.333 ; Time consumed: 0m 2s \n",
      "At Iteration: 5 /50  ;  Training Loss: 0.751073 ; Training Acc: 52.000 ; Testing Acc: 43.333 ; Time consumed: 0m 2s \n",
      "At Iteration: 6 /50  ;  Training Loss: 0.744758 ; Training Acc: 52.500 ; Testing Acc: 56.667 ; Time consumed: 0m 2s \n",
      "At Iteration: 7 /50  ;  Training Loss: 0.730648 ; Training Acc: 66.000 ; Testing Acc: 48.333 ; Time consumed: 0m 2s \n",
      "At Iteration: 8 /50  ;  Training Loss: 0.673622 ; Training Acc: 62.500 ; Testing Acc: 68.333 ; Time consumed: 0m 1s \n",
      "At Iteration: 9 /50  ;  Training Loss: 0.600938 ; Training Acc: 69.000 ; Testing Acc: 75.000 ; Time consumed: 0m 1s \n",
      "At Iteration: 10 /50  ;  Training Loss: 0.668044 ; Training Acc: 66.500 ; Testing Acc: 80.000 ; Time consumed: 0m 2s \n",
      "At Iteration: 11 /50  ;  Training Loss: 0.601763 ; Training Acc: 67.500 ; Testing Acc: 73.333 ; Time consumed: 0m 2s \n",
      "At Iteration: 12 /50  ;  Training Loss: 0.566213 ; Training Acc: 70.000 ; Testing Acc: 78.333 ; Time consumed: 0m 2s \n",
      "At Iteration: 13 /50  ;  Training Loss: 0.595043 ; Training Acc: 69.000 ; Testing Acc: 76.667 ; Time consumed: 0m 2s \n",
      "At Iteration: 14 /50  ;  Training Loss: 0.573071 ; Training Acc: 68.000 ; Testing Acc: 78.333 ; Time consumed: 0m 2s \n",
      "At Iteration: 15 /50  ;  Training Loss: 0.569095 ; Training Acc: 70.000 ; Testing Acc: 85.000 ; Time consumed: 0m 2s \n",
      "At Iteration: 16 /50  ;  Training Loss: 0.549013 ; Training Acc: 72.500 ; Testing Acc: 75.000 ; Time consumed: 0m 1s \n",
      "At Iteration: 17 /50  ;  Training Loss: 0.528576 ; Training Acc: 69.500 ; Testing Acc: 78.333 ; Time consumed: 0m 2s \n",
      "At Iteration: 18 /50  ;  Training Loss: 0.527934 ; Training Acc: 69.000 ; Testing Acc: 78.333 ; Time consumed: 0m 2s \n",
      "At Iteration: 19 /50  ;  Training Loss: 0.505579 ; Training Acc: 76.000 ; Testing Acc: 63.333 ; Time consumed: 0m 2s \n",
      "At Iteration: 20 /50  ;  Training Loss: 0.536423 ; Training Acc: 69.000 ; Testing Acc: 76.667 ; Time consumed: 0m 1s \n",
      "At Iteration: 21 /50  ;  Training Loss: 0.581033 ; Training Acc: 75.500 ; Testing Acc: 78.333 ; Time consumed: 0m 2s \n",
      "At Iteration: 22 /50  ;  Training Loss: 0.535530 ; Training Acc: 75.500 ; Testing Acc: 81.667 ; Time consumed: 0m 2s \n",
      "At Iteration: 23 /50  ;  Training Loss: 0.520072 ; Training Acc: 77.000 ; Testing Acc: 83.333 ; Time consumed: 0m 2s \n",
      "At Iteration: 24 /50  ;  Training Loss: 0.496027 ; Training Acc: 77.000 ; Testing Acc: 78.333 ; Time consumed: 0m 2s \n",
      "At Iteration: 25 /50  ;  Training Loss: 0.504042 ; Training Acc: 73.500 ; Testing Acc: 78.333 ; Time consumed: 0m 1s \n",
      "At Iteration: 26 /50  ;  Training Loss: 0.479922 ; Training Acc: 78.000 ; Testing Acc: 80.000 ; Time consumed: 0m 1s \n",
      "At Iteration: 27 /50  ;  Training Loss: 0.517452 ; Training Acc: 79.000 ; Testing Acc: 73.333 ; Time consumed: 0m 1s \n",
      "At Iteration: 28 /50  ;  Training Loss: 0.536577 ; Training Acc: 76.000 ; Testing Acc: 71.667 ; Time consumed: 0m 1s \n",
      "At Iteration: 29 /50  ;  Training Loss: 0.525279 ; Training Acc: 74.500 ; Testing Acc: 78.333 ; Time consumed: 0m 1s \n",
      "At Iteration: 30 /50  ;  Training Loss: 0.493943 ; Training Acc: 79.000 ; Testing Acc: 78.333 ; Time consumed: 0m 1s \n",
      "At Iteration: 31 /50  ;  Training Loss: 0.455228 ; Training Acc: 78.000 ; Testing Acc: 91.667 ; Time consumed: 0m 1s \n",
      "At Iteration: 32 /50  ;  Training Loss: 0.499048 ; Training Acc: 72.000 ; Testing Acc: 78.333 ; Time consumed: 0m 1s \n",
      "At Iteration: 33 /50  ;  Training Loss: 0.526541 ; Training Acc: 75.000 ; Testing Acc: 76.667 ; Time consumed: 0m 1s \n",
      "At Iteration: 34 /50  ;  Training Loss: 0.489214 ; Training Acc: 76.500 ; Testing Acc: 75.000 ; Time consumed: 0m 1s \n",
      "At Iteration: 35 /50  ;  Training Loss: 0.561677 ; Training Acc: 72.000 ; Testing Acc: 70.000 ; Time consumed: 0m 1s \n",
      "At Iteration: 36 /50  ;  Training Loss: 0.517125 ; Training Acc: 76.000 ; Testing Acc: 78.333 ; Time consumed: 0m 1s \n",
      "At Iteration: 37 /50  ;  Training Loss: 0.478128 ; Training Acc: 78.500 ; Testing Acc: 78.333 ; Time consumed: 0m 2s \n",
      "At Iteration: 38 /50  ;  Training Loss: 0.467588 ; Training Acc: 80.000 ; Testing Acc: 78.333 ; Time consumed: 0m 1s \n",
      "At Iteration: 39 /50  ;  Training Loss: 0.445573 ; Training Acc: 83.500 ; Testing Acc: 78.333 ; Time consumed: 0m 1s \n",
      "At Iteration: 40 /50  ;  Training Loss: 0.435348 ; Training Acc: 80.500 ; Testing Acc: 76.667 ; Time consumed: 0m 1s \n",
      "At Iteration: 41 /50  ;  Training Loss: 0.437754 ; Training Acc: 81.500 ; Testing Acc: 76.667 ; Time consumed: 0m 1s \n",
      "At Iteration: 42 /50  ;  Training Loss: 0.417192 ; Training Acc: 84.000 ; Testing Acc: 75.000 ; Time consumed: 0m 1s \n",
      "At Iteration: 43 /50  ;  Training Loss: 0.490443 ; Training Acc: 77.000 ; Testing Acc: 86.667 ; Time consumed: 0m 1s \n",
      "At Iteration: 44 /50  ;  Training Loss: 0.443151 ; Training Acc: 82.000 ; Testing Acc: 90.000 ; Time consumed: 0m 1s \n",
      "At Iteration: 45 /50  ;  Training Loss: 0.432904 ; Training Acc: 81.500 ; Testing Acc: 86.667 ; Time consumed: 0m 1s \n",
      "At Iteration: 46 /50  ;  Training Loss: 0.376758 ; Training Acc: 84.500 ; Testing Acc: 80.000 ; Time consumed: 0m 1s \n",
      "At Iteration: 47 /50  ;  Training Loss: 0.376044 ; Training Acc: 86.000 ; Testing Acc: 78.333 ; Time consumed: 0m 2s \n",
      "At Iteration: 48 /50  ;  Training Loss: 0.350718 ; Training Acc: 86.500 ; Testing Acc: 83.333 ; Time consumed: 0m 1s \n",
      "At Iteration: 49 /50  ;  Training Loss: 0.357209 ; Training Acc: 86.500 ; Testing Acc: 85.000 ; Time consumed: 0m 2s \n",
      "At Iteration: 50 /50  ;  Training Loss: 0.315315 ; Training Acc: 87.000 ; Testing Acc: 81.667 ; Time consumed: 0m 1s \n"
     ]
    },
    {
     "data": {
      "image/png": "[encoded data removed]",
      "text/plain": [
       "<Figure size 432x288 with 1 Axes>"
      ]
     },
     "metadata": {},
     "output_type": "display_data"
    },
    {
     "data": {
      "image/png": "[encoded data removed]",
      "text/plain": [
       "<Figure size 432x288 with 1 Axes>"
      ]
     },
     "metadata": {},
     "output_type": "display_data"
    }
   ],
   "source": [
    "iterations = 50\n",
    "trainLoss = []\n",
    "trainAcc = []\n",
    "testAcc = []\n",
    "start = time.time()\n",
    "for epoch in range(iterations):\n",
    "    epochStart = time.time()\n",
    "    runningLoss = 0\n",
    "    runningCorrect = 0\n",
    "    avgTrainAcc = 0\n",
    "    for batch_num,data in enumerate(trainLoader):\n",
    "        inputs,labels = data\n",
    "        inputs = inputs/255.0\n",
    "        # Initialize gradients to zero\n",
    "        optimizer.zero_grad()\n",
    "        if use_gpu:\n",
    "            inputs, labels = Variable(inputs.cuda()), Variable(labels.cuda())\n",
    "            # Feed-forward input data through the network\n",
    "            outputs = net(inputs)\n",
    "            _, predicted = torch.max(outputs.data, 1)\n",
    "        else:\n",
    "            inputs, labels = Variable(inputs), Variable(labels)  \n",
    "            outputs = net(inputs)\n",
    "            _, predicted = torch.max(outputs.data, 1)\n",
    "        \n",
    "        \n",
    "        # Compute loss/error\n",
    "        loss = criterion(outputs, labels)\n",
    "        # Backpropagate loss and compute gradients\n",
    "        loss.backward()\n",
    "        # Update the network parameters\n",
    "        optimizer.step()\n",
    "        # Accumulate loss per batch\n",
    "        runningLoss += loss.data\n",
    "        runningCorrect += (predicted == labels).sum()\n",
    "    avgTrainLoss = runningLoss/batch_num\n",
    "    trainLoss.append(avgTrainLoss)\n",
    "    avgTrainAcc = runningCorrect.item()/200.0    \n",
    "    trainAcc.append(avgTrainAcc)\n",
    "    \n",
    "    # Evaluating performance on test set for each epoch\n",
    "    net.train(False) # For testing\n",
    "    inputs = TestImages/255\n",
    "    if use_gpu:\n",
    "        inputs = Variable(inputs.cuda())\n",
    "        outputs = net(inputs)\n",
    "        _, predicted = torch.max(outputs.data, 1)\n",
    "        predicted = predicted.cpu()\n",
    "    else:\n",
    "        inputs = Variable(inputs)\n",
    "        outputs = net(inputs)\n",
    "        _, predicted = torch.max(outputs.data, 1)\n",
    "    correct = 0\n",
    "    correct += (predicted == TestLabels).sum()\n",
    "    avgTestAcc = correct.item()/60.0\n",
    "    testAcc.append(avgTestAcc)\n",
    "    \n",
    "    # Plotting training loss vs Epochs\n",
    "    fig1 = plt.figure(1)        \n",
    "    plt.plot(range(epoch+1),trainLoss,'r-',label='train')        \n",
    "    if epoch==0:\n",
    "        plt.legend(loc='upper left')\n",
    "        plt.xlabel('Epochs')\n",
    "        plt.ylabel('Training loss')   \n",
    "    # Plotting testing accuracy vs Epochs\n",
    "    fig2 = plt.figure(2)        \n",
    "    plt.plot(range(epoch+1),trainAcc,'r-',label='train') \n",
    "    plt.plot(range(epoch+1),testAcc,'g-',label='test')        \n",
    "    if epoch==0:\n",
    "        plt.legend(loc='upper left')\n",
    "        plt.xlabel('Epochs')\n",
    "        plt.ylabel('Accuracy plots')    \n",
    "    \n",
    "    epochEnd = time.time()-epochStart\n",
    "    print('At Iteration: {:.0f} /{:.0f}  ;  Training Loss: {:.6f} ; Training Acc: {:.3f} ; Testing Acc: {:.3f} ; Time consumed: {:.0f}m {:.0f}s '\\\n",
    "          .format(epoch + 1,iterations,avgTrainLoss,avgTrainAcc*100,avgTestAcc*100,epochEnd//60,epochEnd%60))"
   ]
  },
  {
   "cell_type": "markdown",
   "metadata": {},
   "source": [
    "### Visualizing the kernels"
   ]
  },
  {
   "cell_type": "code",
   "execution_count": 12,
   "metadata": {},
   "outputs": [],
   "source": [
    "# functions to show an image\n",
    "def imshow(img, strlabel):\n",
    "    npimg = img.numpy()\n",
    "    npimg = np.abs(npimg)\n",
    "    fig_size = plt.rcParams[\"figure.figsize\"]\n",
    "    fig_size[0] = 10\n",
    "    fig_size[1] = 10\n",
    "    plt.rcParams[\"figure.figsize\"] = fig_size\n",
    "    plt.figure()\n",
    "    plt.title(strlabel)\n",
    "    plt.imshow(np.transpose(npimg, (1, 2, 0)))"
   ]
  },
  {
   "cell_type": "code",
   "execution_count": 13,
   "metadata": {},
   "outputs": [
    {
     "data": {
      "image/png": "[encoded data removed]",
      "text/plain": [
       "<Figure size 720x720 with 1 Axes>"
      ]
     },
     "metadata": {},
     "output_type": "display_data"
    },
    {
     "data": {
      "image/png": "[encoded data removed]",
      "text/plain": [
       "<Figure size 720x720 with 1 Axes>"
      ]
     },
     "metadata": {},
     "output_type": "display_data"
    }
   ],
   "source": [
    "trained_conv1 = net.conv1.weight.data\n",
    "if use_gpu:\n",
    "    init_conv1 = init_conv1.cpu()\n",
    "    trained_conv1 = trained_conv1.cpu()   \n",
    "        \n",
    "imshow(torchvision.utils.make_grid(init_conv1,nrow=6,normalize=True),'Initial Weights')\n",
    "imshow(torchvision.utils.make_grid(trained_conv1,nrow=6,normalize=True),'Trained Weights')"
   ]
  },
  {
   "cell_type": "code",
   "execution_count": null,
   "metadata": {},
   "outputs": [],
   "source": []
  }
 ],
 "metadata": {
  "kernelspec": {
   "display_name": "Python 3",
   "language": "python",
   "name": "python3"
  },
  "language_info": {
   "codemirror_mode": {
    "name": "ipython",
    "version": 3
   },
   "file_extension": ".py",
   "mimetype": "text/x-python",
   "name": "python",
   "nbconvert_exporter": "python",
   "pygments_lexer": "ipython3",
   "version": "3.6.5"
  }
 },
 "nbformat": 4,
 "nbformat_minor": 2
}
